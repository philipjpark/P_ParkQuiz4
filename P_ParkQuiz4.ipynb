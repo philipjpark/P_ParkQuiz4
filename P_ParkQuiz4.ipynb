{
  "nbformat": 4,
  "nbformat_minor": 0,
  "metadata": {
    "colab": {
      "name": "P_ParkQuiz4.ipynb",
      "provenance": [],
      "collapsed_sections": [],
      "authorship_tag": "ABX9TyOerR7a2cbEQfpLhdLMSvD9",
      "include_colab_link": true
    },
    "kernelspec": {
      "name": "python3",
      "display_name": "Python 3"
    },
    "language_info": {
      "name": "python"
    }
  },
  "cells": [
    {
      "cell_type": "markdown",
      "metadata": {
        "id": "view-in-github",
        "colab_type": "text"
      },
      "source": [
        "<a href=\"https://colab.research.google.com/github/philipjpark/P_Park_Quiz4/blob/main/P_ParkQuiz4.ipynb\" target=\"_parent\"><img src=\"https://colab.research.google.com/assets/colab-badge.svg\" alt=\"Open In Colab\"/></a>"
      ]
    },
    {
      "cell_type": "markdown",
      "source": [
        "#Factors Affecting Mortgage Loan Approval#"
      ],
      "metadata": {
        "id": "MSuyu1BOiGAE"
      }
    },
    {
      "cell_type": "markdown",
      "source": [
        "## Part 1: Introduction ##\n",
        "\n",
        "The process of securing a home can be an exciting one but also quite stressful. Applying for home mortgage loans is highly regulated by the banking industry. Many factors are considered when approving loans for home-owning candidates but there have been allegations of racial discrimination and other forms of discriminatory impropriety and thus regulators have decided to take a fresh look to see if there is merit to these allegations. The task at hand, is to identify any correlations between loan denials and racial discrimination. \n",
        "(Please refer to : https://www.wbur.org/news/2022/03/30/home-loans-mortgages-boston-denials) \n",
        "     \n",
        "\n",
        "**Statement of the Problem:** Compare/contrast binary logistic regression models to predict whether or not it is likely that a mortgage loan application will be denied. Parse through the data and models to idenitfy the factors that greatly impact the approval or denial of a loan application. \n",
        "\n",
        "\n",
        "\n",
        "#Exploratory Data Analysis#\n",
        "There are 13 attributes within this dataset:\n",
        "\n",
        "**dir:** Debt payments to total income ratio\n",
        "\n",
        "**hir:** Housing expenses to income ratio\n",
        "\n",
        "**lvr:** Ratio of size of loan to assessed value of property\n",
        "\n",
        "**ccs:** Consumer credit score from 1 to 6 (a low value being a good score)\n",
        "\n",
        "**mcs:** Mortgage credit score from 1 to 4 (a low value being a good score)\n",
        "\n",
        "**pbcr:** Does the prospective loanee have a public bad credit record? \n",
        "\n",
        "**dmi:** Was the prospective loanee denied mortgage insurance? \n",
        "\n",
        "**self:** Self-employed \n",
        "\n",
        "**single:** Is the applicant single? \n",
        "\n",
        "**uria:** 1989 Massachusetts unemployment rate in the applicant's industry\n",
        "\n",
        "**condominium:** Is unit a condominium?\n",
        "\n",
        "**black:** Is the applicant black?\n",
        "\n",
        "**deny:** Has the mortgage been denied? \n",
        "\n",
        "Inferentially-speaking, the dir and lvr may have a strong correlation with the result of the loan application. Debt payments and larger-than-usual loan requests may be red flags for banks. The role of race and loan denials is obviously something that I am interested in analyzing as the data prep and subsequent modeling progresses. \n",
        "\n",
        "Source of the dataset: \n",
        "\n",
        "https://vincentarelbundock.github.io/Rdatasets/doc/Ecdat/Hdma.html"
      ],
      "metadata": {
        "id": "7GgiNSUitiVL"
      }
    },
    {
      "cell_type": "markdown",
      "source": [
        "#Data Preparation#\n",
        "\n",
        "The first step was to get the raw data and I accomplished this by uploading it into my repository. Then I imported a sufficient amount of libraries in order to utilize the power of Python, so that I can leverage these tools as a novice in this field. The tools are useful because they can help me ease into the process of analyzing and modeling and I hope to reduce the library usage in the future, so that I can refine my skills. \n",
        "\n",
        "I called on data.describe() and data.head() to get some preliminary information. "
      ],
      "metadata": {
        "id": "9HEh7XFXodYu"
      }
    },
    {
      "cell_type": "code",
      "execution_count": 50,
      "metadata": {
        "id": "dAJ4dq5Pa9Pe",
        "colab": {
          "base_uri": "https://localhost:8080/",
          "height": 206
        },
        "outputId": "761d5f22-c039-482b-d21d-676ead9c3777"
      },
      "outputs": [
        {
          "output_type": "execute_result",
          "data": {
            "text/plain": [
              "   number     dir    hir       lvr  ccs  mcs pbcr dmi self single  uria  \\\n",
              "0        1  0.221  0.221  0.800000  5.0  2.0   no  no   no     no   3.9   \n",
              "1        2  0.265  0.265  0.921875  2.0  2.0   no  no   no    yes   3.2   \n",
              "2        3  0.372  0.248  0.920398  1.0  2.0   no  no   no     no   3.2   \n",
              "3        4  0.320  0.250  0.860465  1.0  2.0   no  no   no     no   4.3   \n",
              "4        5  0.360  0.350  0.600000  1.0  1.0   no  no   no     no   3.2   \n",
              "\n",
              "   condominium black deny  \n",
              "0            0    no   no  \n",
              "1            0    no   no  \n",
              "2            0    no   no  \n",
              "3            0    no   no  \n",
              "4            0    no   no  "
            ],
            "text/html": [
              "\n",
              "  <div id=\"df-30180ed2-11aa-444f-bfd2-218e525863e7\">\n",
              "    <div class=\"colab-df-container\">\n",
              "      <div>\n",
              "<style scoped>\n",
              "    .dataframe tbody tr th:only-of-type {\n",
              "        vertical-align: middle;\n",
              "    }\n",
              "\n",
              "    .dataframe tbody tr th {\n",
              "        vertical-align: top;\n",
              "    }\n",
              "\n",
              "    .dataframe thead th {\n",
              "        text-align: right;\n",
              "    }\n",
              "</style>\n",
              "<table border=\"1\" class=\"dataframe\">\n",
              "  <thead>\n",
              "    <tr style=\"text-align: right;\">\n",
              "      <th></th>\n",
              "      <th>number</th>\n",
              "      <th>dir</th>\n",
              "      <th>hir</th>\n",
              "      <th>lvr</th>\n",
              "      <th>ccs</th>\n",
              "      <th>mcs</th>\n",
              "      <th>pbcr</th>\n",
              "      <th>dmi</th>\n",
              "      <th>self</th>\n",
              "      <th>single</th>\n",
              "      <th>uria</th>\n",
              "      <th>condominium</th>\n",
              "      <th>black</th>\n",
              "      <th>deny</th>\n",
              "    </tr>\n",
              "  </thead>\n",
              "  <tbody>\n",
              "    <tr>\n",
              "      <th>0</th>\n",
              "      <td>1</td>\n",
              "      <td>0.221</td>\n",
              "      <td>0.221</td>\n",
              "      <td>0.800000</td>\n",
              "      <td>5.0</td>\n",
              "      <td>2.0</td>\n",
              "      <td>no</td>\n",
              "      <td>no</td>\n",
              "      <td>no</td>\n",
              "      <td>no</td>\n",
              "      <td>3.9</td>\n",
              "      <td>0</td>\n",
              "      <td>no</td>\n",
              "      <td>no</td>\n",
              "    </tr>\n",
              "    <tr>\n",
              "      <th>1</th>\n",
              "      <td>2</td>\n",
              "      <td>0.265</td>\n",
              "      <td>0.265</td>\n",
              "      <td>0.921875</td>\n",
              "      <td>2.0</td>\n",
              "      <td>2.0</td>\n",
              "      <td>no</td>\n",
              "      <td>no</td>\n",
              "      <td>no</td>\n",
              "      <td>yes</td>\n",
              "      <td>3.2</td>\n",
              "      <td>0</td>\n",
              "      <td>no</td>\n",
              "      <td>no</td>\n",
              "    </tr>\n",
              "    <tr>\n",
              "      <th>2</th>\n",
              "      <td>3</td>\n",
              "      <td>0.372</td>\n",
              "      <td>0.248</td>\n",
              "      <td>0.920398</td>\n",
              "      <td>1.0</td>\n",
              "      <td>2.0</td>\n",
              "      <td>no</td>\n",
              "      <td>no</td>\n",
              "      <td>no</td>\n",
              "      <td>no</td>\n",
              "      <td>3.2</td>\n",
              "      <td>0</td>\n",
              "      <td>no</td>\n",
              "      <td>no</td>\n",
              "    </tr>\n",
              "    <tr>\n",
              "      <th>3</th>\n",
              "      <td>4</td>\n",
              "      <td>0.320</td>\n",
              "      <td>0.250</td>\n",
              "      <td>0.860465</td>\n",
              "      <td>1.0</td>\n",
              "      <td>2.0</td>\n",
              "      <td>no</td>\n",
              "      <td>no</td>\n",
              "      <td>no</td>\n",
              "      <td>no</td>\n",
              "      <td>4.3</td>\n",
              "      <td>0</td>\n",
              "      <td>no</td>\n",
              "      <td>no</td>\n",
              "    </tr>\n",
              "    <tr>\n",
              "      <th>4</th>\n",
              "      <td>5</td>\n",
              "      <td>0.360</td>\n",
              "      <td>0.350</td>\n",
              "      <td>0.600000</td>\n",
              "      <td>1.0</td>\n",
              "      <td>1.0</td>\n",
              "      <td>no</td>\n",
              "      <td>no</td>\n",
              "      <td>no</td>\n",
              "      <td>no</td>\n",
              "      <td>3.2</td>\n",
              "      <td>0</td>\n",
              "      <td>no</td>\n",
              "      <td>no</td>\n",
              "    </tr>\n",
              "  </tbody>\n",
              "</table>\n",
              "</div>\n",
              "      <button class=\"colab-df-convert\" onclick=\"convertToInteractive('df-30180ed2-11aa-444f-bfd2-218e525863e7')\"\n",
              "              title=\"Convert this dataframe to an interactive table.\"\n",
              "              style=\"display:none;\">\n",
              "        \n",
              "  <svg xmlns=\"http://www.w3.org/2000/svg\" height=\"24px\"viewBox=\"0 0 24 24\"\n",
              "       width=\"24px\">\n",
              "    <path d=\"M0 0h24v24H0V0z\" fill=\"none\"/>\n",
              "    <path d=\"M18.56 5.44l.94 2.06.94-2.06 2.06-.94-2.06-.94-.94-2.06-.94 2.06-2.06.94zm-11 1L8.5 8.5l.94-2.06 2.06-.94-2.06-.94L8.5 2.5l-.94 2.06-2.06.94zm10 10l.94 2.06.94-2.06 2.06-.94-2.06-.94-.94-2.06-.94 2.06-2.06.94z\"/><path d=\"M17.41 7.96l-1.37-1.37c-.4-.4-.92-.59-1.43-.59-.52 0-1.04.2-1.43.59L10.3 9.45l-7.72 7.72c-.78.78-.78 2.05 0 2.83L4 21.41c.39.39.9.59 1.41.59.51 0 1.02-.2 1.41-.59l7.78-7.78 2.81-2.81c.8-.78.8-2.07 0-2.86zM5.41 20L4 18.59l7.72-7.72 1.47 1.35L5.41 20z\"/>\n",
              "  </svg>\n",
              "      </button>\n",
              "      \n",
              "  <style>\n",
              "    .colab-df-container {\n",
              "      display:flex;\n",
              "      flex-wrap:wrap;\n",
              "      gap: 12px;\n",
              "    }\n",
              "\n",
              "    .colab-df-convert {\n",
              "      background-color: #E8F0FE;\n",
              "      border: none;\n",
              "      border-radius: 50%;\n",
              "      cursor: pointer;\n",
              "      display: none;\n",
              "      fill: #1967D2;\n",
              "      height: 32px;\n",
              "      padding: 0 0 0 0;\n",
              "      width: 32px;\n",
              "    }\n",
              "\n",
              "    .colab-df-convert:hover {\n",
              "      background-color: #E2EBFA;\n",
              "      box-shadow: 0px 1px 2px rgba(60, 64, 67, 0.3), 0px 1px 3px 1px rgba(60, 64, 67, 0.15);\n",
              "      fill: #174EA6;\n",
              "    }\n",
              "\n",
              "    [theme=dark] .colab-df-convert {\n",
              "      background-color: #3B4455;\n",
              "      fill: #D2E3FC;\n",
              "    }\n",
              "\n",
              "    [theme=dark] .colab-df-convert:hover {\n",
              "      background-color: #434B5C;\n",
              "      box-shadow: 0px 1px 3px 1px rgba(0, 0, 0, 0.15);\n",
              "      filter: drop-shadow(0px 1px 2px rgba(0, 0, 0, 0.3));\n",
              "      fill: #FFFFFF;\n",
              "    }\n",
              "  </style>\n",
              "\n",
              "      <script>\n",
              "        const buttonEl =\n",
              "          document.querySelector('#df-30180ed2-11aa-444f-bfd2-218e525863e7 button.colab-df-convert');\n",
              "        buttonEl.style.display =\n",
              "          google.colab.kernel.accessAllowed ? 'block' : 'none';\n",
              "\n",
              "        async function convertToInteractive(key) {\n",
              "          const element = document.querySelector('#df-30180ed2-11aa-444f-bfd2-218e525863e7');\n",
              "          const dataTable =\n",
              "            await google.colab.kernel.invokeFunction('convertToInteractive',\n",
              "                                                     [key], {});\n",
              "          if (!dataTable) return;\n",
              "\n",
              "          const docLinkHtml = 'Like what you see? Visit the ' +\n",
              "            '<a target=\"_blank\" href=https://colab.research.google.com/notebooks/data_table.ipynb>data table notebook</a>'\n",
              "            + ' to learn more about interactive tables.';\n",
              "          element.innerHTML = '';\n",
              "          dataTable['output_type'] = 'display_data';\n",
              "          await google.colab.output.renderOutput(dataTable, element);\n",
              "          const docLink = document.createElement('div');\n",
              "          docLink.innerHTML = docLinkHtml;\n",
              "          element.appendChild(docLink);\n",
              "        }\n",
              "      </script>\n",
              "    </div>\n",
              "  </div>\n",
              "  "
            ]
          },
          "metadata": {},
          "execution_count": 50
        }
      ],
      "source": [
        "import numpy as np\n",
        "import pandas as pd\n",
        "import statsmodels.api as sm\n",
        "import matplotlib.pyplot as plt\n",
        "import seaborn as sns\n",
        "from sklearn.linear_model import LogisticRegression\n",
        "from sklearn.model_selection import train_test_split\n",
        "from sklearn import metrics\n",
        "from sklearn.model_selection import cross_val_score\n",
        "from sklearn.metrics import confusion_matrix, accuracy_score\n",
        "from sklearn.metrics import classification_report, accuracy_score\n",
        "from sklearn.neighbors import KNeighborsClassifier as KNN\n",
        "\n",
        "\n",
        "data = pd.read_csv(\"https://raw.githubusercontent.com/philipjpark/P_Park_Quiz4/main/HDMA%20Boston%20Housing%20Data.csv\")\n",
        "data.describe()\n",
        "data.head()\n",
        "\n"
      ]
    },
    {
      "cell_type": "markdown",
      "source": [
        "The next step was to drop the nulls, replace the nulls and then check to make sure the nulls are sufficiently addressed. "
      ],
      "metadata": {
        "id": "2PqqyqotvOsd"
      }
    },
    {
      "cell_type": "code",
      "source": [
        "data.fillna(value = 0,\n",
        "          inplace = True)\n",
        "\n",
        "names_of_columns = data.columns\n",
        "for c in names_of_columns:\n",
        "    print(c + '-' + str(data[c].isnull().sum()))"
      ],
      "metadata": {
        "id": "LqvQRNvQvRih",
        "colab": {
          "base_uri": "https://localhost:8080/"
        },
        "outputId": "9fc63fb4-20fa-4cb9-dd9e-f4773138da6e"
      },
      "execution_count": 51,
      "outputs": [
        {
          "output_type": "stream",
          "name": "stdout",
          "text": [
            "number -0\n",
            "dir-0\n",
            "hir-0\n",
            "lvr-0\n",
            "ccs-0\n",
            "mcs-0\n",
            "pbcr-0\n",
            "dmi-0\n",
            "self-0\n",
            "single-0\n",
            "uria-0\n",
            "condominium-0\n",
            "black-0\n",
            "deny-0\n"
          ]
        }
      ]
    },
    {
      "cell_type": "markdown",
      "source": [
        "Next, I needed to check for the different types of values for each categorical column. I needed to make sure that I have simply yes and no strings so that I can replace all of these with 1s and 0s. The reason why is because with a binary logistic regression, I need to have these two inputs. \n",
        "\n",
        "A **binary logisitic regression** is a great way to compare a response variable to a potentially influential factor to see if there is a correlation. A binary logistic regression will range from 0 to 1, and the curve is an S shape. The binary logistic regression will indicate the level of influence that a factor has with 1 being a definitive yes and 0 being a definitive no. Anything over 50% can be considered veering towards 1 (Yes) and anything below 50% can be considered veering towards 0 (No). "
      ],
      "metadata": {
        "id": "RV27rSVPxK--"
      }
    },
    {
      "cell_type": "code",
      "source": [
        "pbcrVals = data.pbcr.value_counts()\n",
        "\n",
        "dmiVals = data.dmi.value_counts()\n",
        "selfVals = data.self.value_counts()\n",
        "singleVals = data.single.value_counts()\n",
        "condoVals = data.condominium.value_counts()\n",
        "blackVals= data.black.value_counts()\n",
        "denyVals= data.deny.value_counts()\n",
        "print(dmiVals)\n",
        "print(selfVals)\n",
        "print(singleVals)\n",
        "print(condoVals)\n",
        "print(blackVals)\n",
        "print(denyVals)"
      ],
      "metadata": {
        "id": "j-sfGBg9xTzS",
        "colab": {
          "base_uri": "https://localhost:8080/"
        },
        "outputId": "3c71ec03-e42e-4ca4-91b5-e899f641cd69"
      },
      "execution_count": 52,
      "outputs": [
        {
          "output_type": "stream",
          "name": "stdout",
          "text": [
            "no     2333\n",
            "yes      48\n",
            "Name: dmi, dtype: int64\n",
            "no     2103\n",
            "yes     277\n",
            "0         1\n",
            "Name: self, dtype: int64\n",
            "no     1444\n",
            "yes     937\n",
            "Name: single, dtype: int64\n",
            "0    1695\n",
            "1     686\n",
            "Name: condominium, dtype: int64\n",
            "no     2042\n",
            "yes     339\n",
            "Name: black, dtype: int64\n",
            "no     2096\n",
            "yes     285\n",
            "Name: deny, dtype: int64\n"
          ]
        }
      ]
    },
    {
      "cell_type": "markdown",
      "source": [
        "#Prepped Data Work#"
      ],
      "metadata": {
        "id": "C8etoXvTuFz8"
      }
    },
    {
      "cell_type": "markdown",
      "source": [
        "Once I identified the values, I was able to use the replace method to make all of the values 0s and 1s to correspond to no and yes. This was the most important step prior to creating my models for the binary logisitic regression. \n"
      ],
      "metadata": {
        "id": "fBxPRagwy2ix"
      }
    },
    {
      "cell_type": "code",
      "source": [
        "df = pd.DataFrame(data['pbcr'])\n",
        "df1 = pd.DataFrame(data['dmi'])\n",
        "df2 = pd.DataFrame(data['self'])\n",
        "df3 = pd.DataFrame(data['single'])\n",
        "df4 = pd.DataFrame(data['black'])\n",
        "df5 = pd.DataFrame(data['deny'])\n",
        "\n",
        "\n",
        "data['pbcr'] = df.replace({'yes' : 1,\"no\" : 0})\n",
        "data['dmi'] = df1.replace({'yes' : 1,\"no\" : 0})\n",
        "data['self'] = df2.replace({'yes': 1,\"no\" : 0})\n",
        "data['single'] = df3.replace({'yes': 1,\"no\" : 0})\n",
        "data['black'] = df4.replace({'yes': 1,\"no\" : 0})\n",
        "data['deny'] = df5.replace({'yes': 1,\"no\" : 0})\n",
        "\n",
        "\n",
        "print(data.pbcr.value_counts())\n",
        "print(data.dmi.value_counts())\n",
        "print(data.self.value_counts())\n",
        "print(data.single.value_counts())\n",
        "print(data.black.value_counts())\n",
        "print(data.deny.value_counts())\n",
        "\n",
        "\n",
        "\n",
        "\n",
        "\n"
      ],
      "metadata": {
        "id": "L2so1oOyzEiC",
        "colab": {
          "base_uri": "https://localhost:8080/"
        },
        "outputId": "3822fa7c-64dc-4f81-f625-e6d64480c3ae"
      },
      "execution_count": 53,
      "outputs": [
        {
          "output_type": "stream",
          "name": "stdout",
          "text": [
            "0    2206\n",
            "1     175\n",
            "Name: pbcr, dtype: int64\n",
            "0    2333\n",
            "1      48\n",
            "Name: dmi, dtype: int64\n",
            "0    2104\n",
            "1     277\n",
            "Name: self, dtype: int64\n",
            "0    1444\n",
            "1     937\n",
            "Name: single, dtype: int64\n",
            "0    2042\n",
            "1     339\n",
            "Name: black, dtype: int64\n",
            "0    2096\n",
            "1     285\n",
            "Name: deny, dtype: int64\n"
          ]
        }
      ]
    },
    {
      "cell_type": "markdown",
      "source": [
        "Next, I called on a correlation matrix, to sift and sort some more data. \n",
        "\n",
        "According to: https://www.investopedia.com/ask/answers/032515/what-does-it-mean-if-correlation-coefficient-positive-negative-or-zero.asp#:~:text=A%20correlation%20of%20%2D1.0%20indicates,it%20is%20a%20negative%20relationship. \n",
        "\n",
        "\"A correlation of -1.0 indicates a perfect negative correlation, and a correlation of 1.0 indicates a perfect positive correlation. If the correlation coefficient is greater than zero, it is a positive relationship. Conversely, if the value is less than zero, it is a negative relationship.\""
      ],
      "metadata": {
        "id": "9LvGlRSu3mWE"
      }
    },
    {
      "cell_type": "code",
      "source": [
        "corr_matrix = data.corr()\n",
        "corr_matrix\n",
        "\n",
        "rs = np.random.RandomState(0)\n",
        "dfWow = pd.DataFrame(rs.rand(14, 14))\n",
        "corr = dfWow.corr()\n",
        "corr.style.background_gradient(cmap='coolwarm')"
      ],
      "metadata": {
        "id": "71Zsc0je3pH4",
        "colab": {
          "base_uri": "https://localhost:8080/",
          "height": 488
        },
        "outputId": "6a727837-f6f6-4d1a-dbe5-2134df83ecd6"
      },
      "execution_count": 54,
      "outputs": [
        {
          "output_type": "execute_result",
          "data": {
            "text/plain": [
              "<pandas.io.formats.style.Styler at 0x7fafb6332290>"
            ],
            "text/html": [
              "<style type=\"text/css\">\n",
              "#T_f933a_row0_col0, #T_f933a_row1_col1, #T_f933a_row2_col2, #T_f933a_row3_col3, #T_f933a_row4_col4, #T_f933a_row5_col5, #T_f933a_row6_col6, #T_f933a_row7_col7, #T_f933a_row8_col8, #T_f933a_row9_col9, #T_f933a_row10_col10, #T_f933a_row11_col11, #T_f933a_row12_col12, #T_f933a_row13_col13 {\n",
              "  background-color: #b40426;\n",
              "  color: #f1f1f1;\n",
              "}\n",
              "#T_f933a_row0_col1, #T_f933a_row7_col2 {\n",
              "  background-color: #4a63d3;\n",
              "  color: #f1f1f1;\n",
              "}\n",
              "#T_f933a_row0_col2, #T_f933a_row3_col4 {\n",
              "  background-color: #ead5c9;\n",
              "  color: #000000;\n",
              "}\n",
              "#T_f933a_row0_col3, #T_f933a_row10_col6, #T_f933a_row12_col4 {\n",
              "  background-color: #8db0fe;\n",
              "  color: #000000;\n",
              "}\n",
              "#T_f933a_row0_col4, #T_f933a_row9_col4, #T_f933a_row11_col1 {\n",
              "  background-color: #bcd2f7;\n",
              "  color: #000000;\n",
              "}\n",
              "#T_f933a_row0_col5, #T_f933a_row9_col8 {\n",
              "  background-color: #9fbfff;\n",
              "  color: #000000;\n",
              "}\n",
              "#T_f933a_row0_col6, #T_f933a_row2_col7, #T_f933a_row2_col9, #T_f933a_row4_col10, #T_f933a_row5_col1, #T_f933a_row9_col0, #T_f933a_row9_col2, #T_f933a_row9_col12, #T_f933a_row10_col4, #T_f933a_row10_col5, #T_f933a_row10_col11, #T_f933a_row10_col13, #T_f933a_row12_col3, #T_f933a_row12_col8 {\n",
              "  background-color: #3b4cc0;\n",
              "  color: #f1f1f1;\n",
              "}\n",
              "#T_f933a_row0_col7, #T_f933a_row4_col0, #T_f933a_row7_col10 {\n",
              "  background-color: #8caffe;\n",
              "  color: #000000;\n",
              "}\n",
              "#T_f933a_row0_col8, #T_f933a_row1_col0 {\n",
              "  background-color: #4961d2;\n",
              "  color: #f1f1f1;\n",
              "}\n",
              "#T_f933a_row0_col9, #T_f933a_row1_col12, #T_f933a_row2_col13 {\n",
              "  background-color: #7295f4;\n",
              "  color: #f1f1f1;\n",
              "}\n",
              "#T_f933a_row0_col10, #T_f933a_row0_col13, #T_f933a_row1_col13, #T_f933a_row3_col10 {\n",
              "  background-color: #98b9ff;\n",
              "  color: #000000;\n",
              "}\n",
              "#T_f933a_row0_col11 {\n",
              "  background-color: #5a78e4;\n",
              "  color: #f1f1f1;\n",
              "}\n",
              "#T_f933a_row0_col12, #T_f933a_row6_col7 {\n",
              "  background-color: #90b2fe;\n",
              "  color: #000000;\n",
              "}\n",
              "#T_f933a_row1_col2 {\n",
              "  background-color: #e2dad5;\n",
              "  color: #000000;\n",
              "}\n",
              "#T_f933a_row1_col3, #T_f933a_row11_col2 {\n",
              "  background-color: #ccd9ed;\n",
              "  color: #000000;\n",
              "}\n",
              "#T_f933a_row1_col4, #T_f933a_row10_col9 {\n",
              "  background-color: #a5c3fe;\n",
              "  color: #000000;\n",
              "}\n",
              "#T_f933a_row1_col5 {\n",
              "  background-color: #7396f5;\n",
              "  color: #f1f1f1;\n",
              "}\n",
              "#T_f933a_row1_col6, #T_f933a_row2_col3, #T_f933a_row4_col6, #T_f933a_row7_col0 {\n",
              "  background-color: #6788ee;\n",
              "  color: #f1f1f1;\n",
              "}\n",
              "#T_f933a_row1_col7 {\n",
              "  background-color: #c3d5f4;\n",
              "  color: #000000;\n",
              "}\n",
              "#T_f933a_row1_col8 {\n",
              "  background-color: #e8d6cc;\n",
              "  color: #000000;\n",
              "}\n",
              "#T_f933a_row1_col9, #T_f933a_row2_col11 {\n",
              "  background-color: #b2ccfb;\n",
              "  color: #000000;\n",
              "}\n",
              "#T_f933a_row1_col10 {\n",
              "  background-color: #f1ccb8;\n",
              "  color: #000000;\n",
              "}\n",
              "#T_f933a_row1_col11 {\n",
              "  background-color: #c5d6f2;\n",
              "  color: #000000;\n",
              "}\n",
              "#T_f933a_row2_col0, #T_f933a_row5_col9 {\n",
              "  background-color: #d3dbe7;\n",
              "  color: #000000;\n",
              "}\n",
              "#T_f933a_row2_col1, #T_f933a_row3_col5 {\n",
              "  background-color: #c9d7f0;\n",
              "  color: #000000;\n",
              "}\n",
              "#T_f933a_row2_col4 {\n",
              "  background-color: #bed2f6;\n",
              "  color: #000000;\n",
              "}\n",
              "#T_f933a_row2_col5 {\n",
              "  background-color: #5f7fe8;\n",
              "  color: #f1f1f1;\n",
              "}\n",
              "#T_f933a_row2_col6 {\n",
              "  background-color: #7699f6;\n",
              "  color: #f1f1f1;\n",
              "}\n",
              "#T_f933a_row2_col8 {\n",
              "  background-color: #7ea1fa;\n",
              "  color: #f1f1f1;\n",
              "}\n",
              "#T_f933a_row2_col10 {\n",
              "  background-color: #cad8ef;\n",
              "  color: #000000;\n",
              "}\n",
              "#T_f933a_row2_col12 {\n",
              "  background-color: #b1cbfc;\n",
              "  color: #000000;\n",
              "}\n",
              "#T_f933a_row3_col0, #T_f933a_row6_col1 {\n",
              "  background-color: #6e90f2;\n",
              "  color: #f1f1f1;\n",
              "}\n",
              "#T_f933a_row3_col1, #T_f933a_row4_col9, #T_f933a_row5_col3, #T_f933a_row8_col2 {\n",
              "  background-color: #b9d0f9;\n",
              "  color: #000000;\n",
              "}\n",
              "#T_f933a_row3_col2 {\n",
              "  background-color: #7da0f9;\n",
              "  color: #f1f1f1;\n",
              "}\n",
              "#T_f933a_row3_col6 {\n",
              "  background-color: #5470de;\n",
              "  color: #f1f1f1;\n",
              "}\n",
              "#T_f933a_row3_col7 {\n",
              "  background-color: #f0cdbb;\n",
              "  color: #000000;\n",
              "}\n",
              "#T_f933a_row3_col8 {\n",
              "  background-color: #e7d7ce;\n",
              "  color: #000000;\n",
              "}\n",
              "#T_f933a_row3_col9 {\n",
              "  background-color: #adc9fd;\n",
              "  color: #000000;\n",
              "}\n",
              "#T_f933a_row3_col11, #T_f933a_row11_col13, #T_f933a_row13_col11 {\n",
              "  background-color: #f2cab5;\n",
              "  color: #000000;\n",
              "}\n",
              "#T_f933a_row3_col12, #T_f933a_row5_col10 {\n",
              "  background-color: #3c4ec2;\n",
              "  color: #f1f1f1;\n",
              "}\n",
              "#T_f933a_row3_col13 {\n",
              "  background-color: #dadce0;\n",
              "  color: #000000;\n",
              "}\n",
              "#T_f933a_row4_col1, #T_f933a_row12_col0, #T_f933a_row12_col6 {\n",
              "  background-color: #6f92f3;\n",
              "  color: #f1f1f1;\n",
              "}\n",
              "#T_f933a_row4_col2 {\n",
              "  background-color: #bad0f8;\n",
              "  color: #000000;\n",
              "}\n",
              "#T_f933a_row4_col3 {\n",
              "  background-color: #dedcdb;\n",
              "  color: #000000;\n",
              "}\n",
              "#T_f933a_row4_col5, #T_f933a_row5_col4 {\n",
              "  background-color: #f49a7b;\n",
              "  color: #000000;\n",
              "}\n",
              "#T_f933a_row4_col7, #T_f933a_row8_col11 {\n",
              "  background-color: #f6bea4;\n",
              "  color: #000000;\n",
              "}\n",
              "#T_f933a_row4_col8 {\n",
              "  background-color: #aec9fc;\n",
              "  color: #000000;\n",
              "}\n",
              "#T_f933a_row4_col11, #T_f933a_row8_col7 {\n",
              "  background-color: #f7a688;\n",
              "  color: #000000;\n",
              "}\n",
              "#T_f933a_row4_col12 {\n",
              "  background-color: #7597f6;\n",
              "  color: #f1f1f1;\n",
              "}\n",
              "#T_f933a_row4_col13, #T_f933a_row7_col9 {\n",
              "  background-color: #f5c2aa;\n",
              "  color: #000000;\n",
              "}\n",
              "#T_f933a_row5_col0 {\n",
              "  background-color: #6a8bef;\n",
              "  color: #f1f1f1;\n",
              "}\n",
              "#T_f933a_row5_col2, #T_f933a_row11_col6 {\n",
              "  background-color: #5d7ce6;\n",
              "  color: #f1f1f1;\n",
              "}\n",
              "#T_f933a_row5_col6, #T_f933a_row13_col12 {\n",
              "  background-color: #5572df;\n",
              "  color: #f1f1f1;\n",
              "}\n",
              "#T_f933a_row5_col7 {\n",
              "  background-color: #e9785d;\n",
              "  color: #f1f1f1;\n",
              "}\n",
              "#T_f933a_row5_col8, #T_f933a_row9_col11 {\n",
              "  background-color: #a1c0ff;\n",
              "  color: #000000;\n",
              "}\n",
              "#T_f933a_row5_col11, #T_f933a_row8_col3, #T_f933a_row11_col8 {\n",
              "  background-color: #f2c9b4;\n",
              "  color: #000000;\n",
              "}\n",
              "#T_f933a_row5_col12, #T_f933a_row5_col13, #T_f933a_row8_col4 {\n",
              "  background-color: #dbdcde;\n",
              "  color: #000000;\n",
              "}\n",
              "#T_f933a_row6_col0 {\n",
              "  background-color: #4055c8;\n",
              "  color: #f1f1f1;\n",
              "}\n",
              "#T_f933a_row6_col2, #T_f933a_row13_col6 {\n",
              "  background-color: #abc8fd;\n",
              "  color: #000000;\n",
              "}\n",
              "#T_f933a_row6_col3 {\n",
              "  background-color: #7a9df8;\n",
              "  color: #f1f1f1;\n",
              "}\n",
              "#T_f933a_row6_col4 {\n",
              "  background-color: #a3c2fe;\n",
              "  color: #000000;\n",
              "}\n",
              "#T_f933a_row6_col5 {\n",
              "  background-color: #93b5fe;\n",
              "  color: #000000;\n",
              "}\n",
              "#T_f933a_row6_col8 {\n",
              "  background-color: #506bda;\n",
              "  color: #f1f1f1;\n",
              "}\n",
              "#T_f933a_row6_col9 {\n",
              "  background-color: #b6cefa;\n",
              "  color: #000000;\n",
              "}\n",
              "#T_f933a_row6_col10 {\n",
              "  background-color: #c1d4f4;\n",
              "  color: #000000;\n",
              "}\n",
              "#T_f933a_row6_col11 {\n",
              "  background-color: #7093f3;\n",
              "  color: #f1f1f1;\n",
              "}\n",
              "#T_f933a_row6_col12 {\n",
              "  background-color: #94b6ff;\n",
              "  color: #000000;\n",
              "}\n",
              "#T_f933a_row6_col13 {\n",
              "  background-color: #bbd1f8;\n",
              "  color: #000000;\n",
              "}\n",
              "#T_f933a_row7_col1 {\n",
              "  background-color: #a7c5fe;\n",
              "  color: #000000;\n",
              "}\n",
              "#T_f933a_row7_col3, #T_f933a_row13_col8 {\n",
              "  background-color: #efcfbf;\n",
              "  color: #000000;\n",
              "}\n",
              "#T_f933a_row7_col4 {\n",
              "  background-color: #f7b79b;\n",
              "  color: #000000;\n",
              "}\n",
              "#T_f933a_row7_col5 {\n",
              "  background-color: #e67259;\n",
              "  color: #f1f1f1;\n",
              "}\n",
              "#T_f933a_row7_col6 {\n",
              "  background-color: #6485ec;\n",
              "  color: #f1f1f1;\n",
              "}\n",
              "#T_f933a_row7_col8 {\n",
              "  background-color: #f7ba9f;\n",
              "  color: #000000;\n",
              "}\n",
              "#T_f933a_row7_col11, #T_f933a_row7_col13 {\n",
              "  background-color: #ead4c8;\n",
              "  color: #000000;\n",
              "}\n",
              "#T_f933a_row7_col12 {\n",
              "  background-color: #81a4fb;\n",
              "  color: #f1f1f1;\n",
              "}\n",
              "#T_f933a_row8_col0 {\n",
              "  background-color: #5875e1;\n",
              "  color: #f1f1f1;\n",
              "}\n",
              "#T_f933a_row8_col1 {\n",
              "  background-color: #edd2c3;\n",
              "  color: #000000;\n",
              "}\n",
              "#T_f933a_row8_col5 {\n",
              "  background-color: #d2dbe8;\n",
              "  color: #000000;\n",
              "}\n",
              "#T_f933a_row8_col6 {\n",
              "  background-color: #5977e3;\n",
              "  color: #f1f1f1;\n",
              "}\n",
              "#T_f933a_row8_col9 {\n",
              "  background-color: #cfdaea;\n",
              "  color: #000000;\n",
              "}\n",
              "#T_f933a_row8_col10 {\n",
              "  background-color: #edd1c2;\n",
              "  color: #000000;\n",
              "}\n",
              "#T_f933a_row8_col12 {\n",
              "  background-color: #6b8df0;\n",
              "  color: #f1f1f1;\n",
              "}\n",
              "#T_f933a_row8_col13 {\n",
              "  background-color: #f4c5ad;\n",
              "  color: #000000;\n",
              "}\n",
              "#T_f933a_row9_col1 {\n",
              "  background-color: #84a7fc;\n",
              "  color: #f1f1f1;\n",
              "}\n",
              "#T_f933a_row9_col3, #T_f933a_row10_col12 {\n",
              "  background-color: #9abbff;\n",
              "  color: #000000;\n",
              "}\n",
              "#T_f933a_row9_col5 {\n",
              "  background-color: #d4dbe6;\n",
              "  color: #000000;\n",
              "}\n",
              "#T_f933a_row9_col6 {\n",
              "  background-color: #82a6fb;\n",
              "  color: #f1f1f1;\n",
              "}\n",
              "#T_f933a_row9_col7 {\n",
              "  background-color: #f3c8b2;\n",
              "  color: #000000;\n",
              "}\n",
              "#T_f933a_row9_col10 {\n",
              "  background-color: #aac7fd;\n",
              "  color: #000000;\n",
              "}\n",
              "#T_f933a_row9_col13, #T_f933a_row13_col2 {\n",
              "  background-color: #96b7ff;\n",
              "  color: #000000;\n",
              "}\n",
              "#T_f933a_row10_col0 {\n",
              "  background-color: #5e7de7;\n",
              "  color: #f1f1f1;\n",
              "}\n",
              "#T_f933a_row10_col1 {\n",
              "  background-color: #dddcdc;\n",
              "  color: #000000;\n",
              "}\n",
              "#T_f933a_row10_col2 {\n",
              "  background-color: #c6d6f1;\n",
              "  color: #000000;\n",
              "}\n",
              "#T_f933a_row10_col3, #T_f933a_row12_col11 {\n",
              "  background-color: #80a3fa;\n",
              "  color: #f1f1f1;\n",
              "}\n",
              "#T_f933a_row10_col7 {\n",
              "  background-color: #779af7;\n",
              "  color: #f1f1f1;\n",
              "}\n",
              "#T_f933a_row10_col8 {\n",
              "  background-color: #cedaeb;\n",
              "  color: #000000;\n",
              "}\n",
              "#T_f933a_row11_col0 {\n",
              "  background-color: #4b64d5;\n",
              "  color: #f1f1f1;\n",
              "}\n",
              "#T_f933a_row11_col3 {\n",
              "  background-color: #f5c4ac;\n",
              "  color: #000000;\n",
              "}\n",
              "#T_f933a_row11_col4 {\n",
              "  background-color: #f39577;\n",
              "  color: #000000;\n",
              "}\n",
              "#T_f933a_row11_col5 {\n",
              "  background-color: #f7b99e;\n",
              "  color: #000000;\n",
              "}\n",
              "#T_f933a_row11_col7, #T_f933a_row13_col7 {\n",
              "  background-color: #f1cdba;\n",
              "  color: #000000;\n",
              "}\n",
              "#T_f933a_row11_col9, #T_f933a_row12_col2 {\n",
              "  background-color: #bfd3f6;\n",
              "  color: #000000;\n",
              "}\n",
              "#T_f933a_row11_col10 {\n",
              "  background-color: #688aef;\n",
              "  color: #f1f1f1;\n",
              "}\n",
              "#T_f933a_row11_col12 {\n",
              "  background-color: #92b4fe;\n",
              "  color: #000000;\n",
              "}\n",
              "#T_f933a_row12_col1 {\n",
              "  background-color: #516ddb;\n",
              "  color: #f1f1f1;\n",
              "}\n",
              "#T_f933a_row12_col5 {\n",
              "  background-color: #e5d8d1;\n",
              "  color: #000000;\n",
              "}\n",
              "#T_f933a_row12_col7 {\n",
              "  background-color: #86a9fc;\n",
              "  color: #f1f1f1;\n",
              "}\n",
              "#T_f933a_row12_col9 {\n",
              "  background-color: #4f69d9;\n",
              "  color: #f1f1f1;\n",
              "}\n",
              "#T_f933a_row12_col10 {\n",
              "  background-color: #afcafc;\n",
              "  color: #000000;\n",
              "}\n",
              "#T_f933a_row12_col13 {\n",
              "  background-color: #4358cb;\n",
              "  color: #f1f1f1;\n",
              "}\n",
              "#T_f933a_row13_col0 {\n",
              "  background-color: #89acfd;\n",
              "  color: #000000;\n",
              "}\n",
              "#T_f933a_row13_col1 {\n",
              "  background-color: #8badfd;\n",
              "  color: #000000;\n",
              "}\n",
              "#T_f933a_row13_col3 {\n",
              "  background-color: #e1dad6;\n",
              "  color: #000000;\n",
              "}\n",
              "#T_f933a_row13_col4 {\n",
              "  background-color: #f7b396;\n",
              "  color: #000000;\n",
              "}\n",
              "#T_f933a_row13_col5 {\n",
              "  background-color: #ebd3c6;\n",
              "  color: #000000;\n",
              "}\n",
              "#T_f933a_row13_col9 {\n",
              "  background-color: #b5cdfa;\n",
              "  color: #000000;\n",
              "}\n",
              "#T_f933a_row13_col10 {\n",
              "  background-color: #6687ed;\n",
              "  color: #f1f1f1;\n",
              "}\n",
              "</style>\n",
              "<table id=\"T_f933a_\" class=\"dataframe\">\n",
              "  <thead>\n",
              "    <tr>\n",
              "      <th class=\"blank level0\" >&nbsp;</th>\n",
              "      <th class=\"col_heading level0 col0\" >0</th>\n",
              "      <th class=\"col_heading level0 col1\" >1</th>\n",
              "      <th class=\"col_heading level0 col2\" >2</th>\n",
              "      <th class=\"col_heading level0 col3\" >3</th>\n",
              "      <th class=\"col_heading level0 col4\" >4</th>\n",
              "      <th class=\"col_heading level0 col5\" >5</th>\n",
              "      <th class=\"col_heading level0 col6\" >6</th>\n",
              "      <th class=\"col_heading level0 col7\" >7</th>\n",
              "      <th class=\"col_heading level0 col8\" >8</th>\n",
              "      <th class=\"col_heading level0 col9\" >9</th>\n",
              "      <th class=\"col_heading level0 col10\" >10</th>\n",
              "      <th class=\"col_heading level0 col11\" >11</th>\n",
              "      <th class=\"col_heading level0 col12\" >12</th>\n",
              "      <th class=\"col_heading level0 col13\" >13</th>\n",
              "    </tr>\n",
              "  </thead>\n",
              "  <tbody>\n",
              "    <tr>\n",
              "      <th id=\"T_f933a_level0_row0\" class=\"row_heading level0 row0\" >0</th>\n",
              "      <td id=\"T_f933a_row0_col0\" class=\"data row0 col0\" >1.000000</td>\n",
              "      <td id=\"T_f933a_row0_col1\" class=\"data row0 col1\" >-0.211014</td>\n",
              "      <td id=\"T_f933a_row0_col2\" class=\"data row0 col2\" >0.314649</td>\n",
              "      <td id=\"T_f933a_row0_col3\" class=\"data row0 col3\" >-0.064384</td>\n",
              "      <td id=\"T_f933a_row0_col4\" class=\"data row0 col4\" >0.041276</td>\n",
              "      <td id=\"T_f933a_row0_col5\" class=\"data row0 col5\" >-0.082112</td>\n",
              "      <td id=\"T_f933a_row0_col6\" class=\"data row0 col6\" >-0.246714</td>\n",
              "      <td id=\"T_f933a_row0_col7\" class=\"data row0 col7\" >-0.092720</td>\n",
              "      <td id=\"T_f933a_row0_col8\" class=\"data row0 col8\" >-0.148191</td>\n",
              "      <td id=\"T_f933a_row0_col9\" class=\"data row0 col9\" >-0.272108</td>\n",
              "      <td id=\"T_f933a_row0_col10\" class=\"data row0 col10\" >-0.123913</td>\n",
              "      <td id=\"T_f933a_row0_col11\" class=\"data row0 col11\" >-0.199799</td>\n",
              "      <td id=\"T_f933a_row0_col12\" class=\"data row0 col12\" >-0.061200</td>\n",
              "      <td id=\"T_f933a_row0_col13\" class=\"data row0 col13\" >0.032905</td>\n",
              "    </tr>\n",
              "    <tr>\n",
              "      <th id=\"T_f933a_level0_row1\" class=\"row_heading level0 row1\" >1</th>\n",
              "      <td id=\"T_f933a_row1_col0\" class=\"data row1 col0\" >-0.211014</td>\n",
              "      <td id=\"T_f933a_row1_col1\" class=\"data row1 col1\" >1.000000</td>\n",
              "      <td id=\"T_f933a_row1_col2\" class=\"data row1 col2\" >0.267418</td>\n",
              "      <td id=\"T_f933a_row1_col3\" class=\"data row1 col3\" >0.203292</td>\n",
              "      <td id=\"T_f933a_row1_col4\" class=\"data row1 col4\" >-0.065591</td>\n",
              "      <td id=\"T_f933a_row1_col5\" class=\"data row1 col5\" >-0.276025</td>\n",
              "      <td id=\"T_f933a_row1_col6\" class=\"data row1 col6\" >-0.068750</td>\n",
              "      <td id=\"T_f933a_row1_col7\" class=\"data row1 col7\" >0.141150</td>\n",
              "      <td id=\"T_f933a_row1_col8\" class=\"data row1 col8\" >0.448604</td>\n",
              "      <td id=\"T_f933a_row1_col9\" class=\"data row1 col9\" >0.009730</td>\n",
              "      <td id=\"T_f933a_row1_col10\" class=\"data row1 col10\" >0.364683</td>\n",
              "      <td id=\"T_f933a_row1_col11\" class=\"data row1 col11\" >0.219198</td>\n",
              "      <td id=\"T_f933a_row1_col12\" class=\"data row1 col12\" >-0.179906</td>\n",
              "      <td id=\"T_f933a_row1_col13\" class=\"data row1 col13\" >0.035845</td>\n",
              "    </tr>\n",
              "    <tr>\n",
              "      <th id=\"T_f933a_level0_row2\" class=\"row_heading level0 row2\" >2</th>\n",
              "      <td id=\"T_f933a_row2_col0\" class=\"data row2 col0\" >0.314649</td>\n",
              "      <td id=\"T_f933a_row2_col1\" class=\"data row2 col1\" >0.267418</td>\n",
              "      <td id=\"T_f933a_row2_col2\" class=\"data row2 col2\" >1.000000</td>\n",
              "      <td id=\"T_f933a_row2_col3\" class=\"data row2 col3\" >-0.220827</td>\n",
              "      <td id=\"T_f933a_row2_col4\" class=\"data row2 col4\" >0.047528</td>\n",
              "      <td id=\"T_f933a_row2_col5\" class=\"data row2 col5\" >-0.367797</td>\n",
              "      <td id=\"T_f933a_row2_col6\" class=\"data row2 col6\" >-0.017026</td>\n",
              "      <td id=\"T_f933a_row2_col7\" class=\"data row2 col7\" >-0.455950</td>\n",
              "      <td id=\"T_f933a_row2_col8\" class=\"data row2 col8\" >0.041402</td>\n",
              "      <td id=\"T_f933a_row2_col9\" class=\"data row2 col9\" >-0.536480</td>\n",
              "      <td id=\"T_f933a_row2_col10\" class=\"data row2 col10\" >0.110986</td>\n",
              "      <td id=\"T_f933a_row2_col11\" class=\"data row2 col11\" >0.139670</td>\n",
              "      <td id=\"T_f933a_row2_col12\" class=\"data row2 col12\" >0.072958</td>\n",
              "      <td id=\"T_f933a_row2_col13\" class=\"data row2 col13\" >-0.112034</td>\n",
              "    </tr>\n",
              "    <tr>\n",
              "      <th id=\"T_f933a_level0_row3\" class=\"row_heading level0 row3\" >3</th>\n",
              "      <td id=\"T_f933a_row3_col0\" class=\"data row3 col0\" >-0.064384</td>\n",
              "      <td id=\"T_f933a_row3_col1\" class=\"data row3 col1\" >0.203292</td>\n",
              "      <td id=\"T_f933a_row3_col2\" class=\"data row3 col2\" >-0.220827</td>\n",
              "      <td id=\"T_f933a_row3_col3\" class=\"data row3 col3\" >1.000000</td>\n",
              "      <td id=\"T_f933a_row3_col4\" class=\"data row3 col4\" >0.298544</td>\n",
              "      <td id=\"T_f933a_row3_col5\" class=\"data row3 col5\" >0.111539</td>\n",
              "      <td id=\"T_f933a_row3_col6\" class=\"data row3 col6\" >-0.140679</td>\n",
              "      <td id=\"T_f933a_row3_col7\" class=\"data row3 col7\" >0.402256</td>\n",
              "      <td id=\"T_f933a_row3_col8\" class=\"data row3 col8\" >0.444575</td>\n",
              "      <td id=\"T_f933a_row3_col9\" class=\"data row3 col9\" >-0.012967</td>\n",
              "      <td id=\"T_f933a_row3_col10\" class=\"data row3 col10\" >-0.119652</td>\n",
              "      <td id=\"T_f933a_row3_col11\" class=\"data row3 col11\" >0.471061</td>\n",
              "      <td id=\"T_f933a_row3_col12\" class=\"data row3 col12\" >-0.421886</td>\n",
              "      <td id=\"T_f933a_row3_col13\" class=\"data row3 col13\" >0.311617</td>\n",
              "    </tr>\n",
              "    <tr>\n",
              "      <th id=\"T_f933a_level0_row4\" class=\"row_heading level0 row4\" >4</th>\n",
              "      <td id=\"T_f933a_row4_col0\" class=\"data row4 col0\" >0.041276</td>\n",
              "      <td id=\"T_f933a_row4_col1\" class=\"data row4 col1\" >-0.065591</td>\n",
              "      <td id=\"T_f933a_row4_col2\" class=\"data row4 col2\" >0.047528</td>\n",
              "      <td id=\"T_f933a_row4_col3\" class=\"data row4 col3\" >0.298544</td>\n",
              "      <td id=\"T_f933a_row4_col4\" class=\"data row4 col4\" >1.000000</td>\n",
              "      <td id=\"T_f933a_row4_col5\" class=\"data row4 col5\" >0.608096</td>\n",
              "      <td id=\"T_f933a_row4_col6\" class=\"data row4 col6\" >-0.070982</td>\n",
              "      <td id=\"T_f933a_row4_col7\" class=\"data row4 col7\" >0.485453</td>\n",
              "      <td id=\"T_f933a_row4_col8\" class=\"data row4 col8\" >0.207039</td>\n",
              "      <td id=\"T_f933a_row4_col9\" class=\"data row4 col9\" >0.045215</td>\n",
              "      <td id=\"T_f933a_row4_col10\" class=\"data row4 col10\" >-0.565345</td>\n",
              "      <td id=\"T_f933a_row4_col11\" class=\"data row4 col11\" >0.623650</td>\n",
              "      <td id=\"T_f933a_row4_col12\" class=\"data row4 col12\" >-0.168425</td>\n",
              "      <td id=\"T_f933a_row4_col13\" class=\"data row4 col13\" >0.504373</td>\n",
              "    </tr>\n",
              "    <tr>\n",
              "      <th id=\"T_f933a_level0_row5\" class=\"row_heading level0 row5\" >5</th>\n",
              "      <td id=\"T_f933a_row5_col0\" class=\"data row5 col0\" >-0.082112</td>\n",
              "      <td id=\"T_f933a_row5_col1\" class=\"data row5 col1\" >-0.276025</td>\n",
              "      <td id=\"T_f933a_row5_col2\" class=\"data row5 col2\" >-0.367797</td>\n",
              "      <td id=\"T_f933a_row5_col3\" class=\"data row5 col3\" >0.111539</td>\n",
              "      <td id=\"T_f933a_row5_col4\" class=\"data row5 col4\" >0.608096</td>\n",
              "      <td id=\"T_f933a_row5_col5\" class=\"data row5 col5\" >1.000000</td>\n",
              "      <td id=\"T_f933a_row5_col6\" class=\"data row5 col6\" >-0.137431</td>\n",
              "      <td id=\"T_f933a_row5_col7\" class=\"data row5 col7\" >0.747805</td>\n",
              "      <td id=\"T_f933a_row5_col8\" class=\"data row5 col8\" >0.161254</td>\n",
              "      <td id=\"T_f933a_row5_col9\" class=\"data row5 col9\" >0.173525</td>\n",
              "      <td id=\"T_f933a_row5_col10\" class=\"data row5 col10\" >-0.554304</td>\n",
              "      <td id=\"T_f933a_row5_col11\" class=\"data row5 col11\" >0.472956</td>\n",
              "      <td id=\"T_f933a_row5_col12\" class=\"data row5 col12\" >0.274505</td>\n",
              "      <td id=\"T_f933a_row5_col13\" class=\"data row5 col13\" >0.318667</td>\n",
              "    </tr>\n",
              "    <tr>\n",
              "      <th id=\"T_f933a_level0_row6\" class=\"row_heading level0 row6\" >6</th>\n",
              "      <td id=\"T_f933a_row6_col0\" class=\"data row6 col0\" >-0.246714</td>\n",
              "      <td id=\"T_f933a_row6_col1\" class=\"data row6 col1\" >-0.068750</td>\n",
              "      <td id=\"T_f933a_row6_col2\" class=\"data row6 col2\" >-0.017026</td>\n",
              "      <td id=\"T_f933a_row6_col3\" class=\"data row6 col3\" >-0.140679</td>\n",
              "      <td id=\"T_f933a_row6_col4\" class=\"data row6 col4\" >-0.070982</td>\n",
              "      <td id=\"T_f933a_row6_col5\" class=\"data row6 col5\" >-0.137431</td>\n",
              "      <td id=\"T_f933a_row6_col6\" class=\"data row6 col6\" >1.000000</td>\n",
              "      <td id=\"T_f933a_row6_col7\" class=\"data row6 col7\" >-0.080350</td>\n",
              "      <td id=\"T_f933a_row6_col8\" class=\"data row6 col8\" >-0.123056</td>\n",
              "      <td id=\"T_f933a_row6_col9\" class=\"data row6 col9\" >0.030180</td>\n",
              "      <td id=\"T_f933a_row6_col10\" class=\"data row6 col10\" >0.065418</td>\n",
              "      <td id=\"T_f933a_row6_col11\" class=\"data row6 col11\" >-0.109529</td>\n",
              "      <td id=\"T_f933a_row6_col12\" class=\"data row6 col12\" >-0.041748</td>\n",
              "      <td id=\"T_f933a_row6_col13\" class=\"data row6 col13\" >0.174139</td>\n",
              "    </tr>\n",
              "    <tr>\n",
              "      <th id=\"T_f933a_level0_row7\" class=\"row_heading level0 row7\" >7</th>\n",
              "      <td id=\"T_f933a_row7_col0\" class=\"data row7 col0\" >-0.092720</td>\n",
              "      <td id=\"T_f933a_row7_col1\" class=\"data row7 col1\" >0.141150</td>\n",
              "      <td id=\"T_f933a_row7_col2\" class=\"data row7 col2\" >-0.455950</td>\n",
              "      <td id=\"T_f933a_row7_col3\" class=\"data row7 col3\" >0.402256</td>\n",
              "      <td id=\"T_f933a_row7_col4\" class=\"data row7 col4\" >0.485453</td>\n",
              "      <td id=\"T_f933a_row7_col5\" class=\"data row7 col5\" >0.747805</td>\n",
              "      <td id=\"T_f933a_row7_col6\" class=\"data row7 col6\" >-0.080350</td>\n",
              "      <td id=\"T_f933a_row7_col7\" class=\"data row7 col7\" >1.000000</td>\n",
              "      <td id=\"T_f933a_row7_col8\" class=\"data row7 col8\" >0.586567</td>\n",
              "      <td id=\"T_f933a_row7_col9\" class=\"data row7 col9\" >0.431831</td>\n",
              "      <td id=\"T_f933a_row7_col10\" class=\"data row7 col10\" >-0.178626</td>\n",
              "      <td id=\"T_f933a_row7_col11\" class=\"data row7 col11\" >0.405889</td>\n",
              "      <td id=\"T_f933a_row7_col12\" class=\"data row7 col12\" >-0.119448</td>\n",
              "      <td id=\"T_f933a_row7_col13\" class=\"data row7 col13\" >0.403160</td>\n",
              "    </tr>\n",
              "    <tr>\n",
              "      <th id=\"T_f933a_level0_row8\" class=\"row_heading level0 row8\" >8</th>\n",
              "      <td id=\"T_f933a_row8_col0\" class=\"data row8 col0\" >-0.148191</td>\n",
              "      <td id=\"T_f933a_row8_col1\" class=\"data row8 col1\" >0.448604</td>\n",
              "      <td id=\"T_f933a_row8_col2\" class=\"data row8 col2\" >0.041402</td>\n",
              "      <td id=\"T_f933a_row8_col3\" class=\"data row8 col3\" >0.444575</td>\n",
              "      <td id=\"T_f933a_row8_col4\" class=\"data row8 col4\" >0.207039</td>\n",
              "      <td id=\"T_f933a_row8_col5\" class=\"data row8 col5\" >0.161254</td>\n",
              "      <td id=\"T_f933a_row8_col6\" class=\"data row8 col6\" >-0.123056</td>\n",
              "      <td id=\"T_f933a_row8_col7\" class=\"data row8 col7\" >0.586567</td>\n",
              "      <td id=\"T_f933a_row8_col8\" class=\"data row8 col8\" >1.000000</td>\n",
              "      <td id=\"T_f933a_row8_col9\" class=\"data row8 col9\" >0.156734</td>\n",
              "      <td id=\"T_f933a_row8_col10\" class=\"data row8 col10\" >0.331005</td>\n",
              "      <td id=\"T_f933a_row8_col11\" class=\"data row8 col11\" >0.525722</td>\n",
              "      <td id=\"T_f933a_row8_col12\" class=\"data row8 col12\" >-0.209516</td>\n",
              "      <td id=\"T_f933a_row8_col13\" class=\"data row8 col13\" >0.492889</td>\n",
              "    </tr>\n",
              "    <tr>\n",
              "      <th id=\"T_f933a_level0_row9\" class=\"row_heading level0 row9\" >9</th>\n",
              "      <td id=\"T_f933a_row9_col0\" class=\"data row9 col0\" >-0.272108</td>\n",
              "      <td id=\"T_f933a_row9_col1\" class=\"data row9 col1\" >0.009730</td>\n",
              "      <td id=\"T_f933a_row9_col2\" class=\"data row9 col2\" >-0.536480</td>\n",
              "      <td id=\"T_f933a_row9_col3\" class=\"data row9 col3\" >-0.012967</td>\n",
              "      <td id=\"T_f933a_row9_col4\" class=\"data row9 col4\" >0.045215</td>\n",
              "      <td id=\"T_f933a_row9_col5\" class=\"data row9 col5\" >0.173525</td>\n",
              "      <td id=\"T_f933a_row9_col6\" class=\"data row9 col6\" >0.030180</td>\n",
              "      <td id=\"T_f933a_row9_col7\" class=\"data row9 col7\" >0.431831</td>\n",
              "      <td id=\"T_f933a_row9_col8\" class=\"data row9 col8\" >0.156734</td>\n",
              "      <td id=\"T_f933a_row9_col9\" class=\"data row9 col9\" >1.000000</td>\n",
              "      <td id=\"T_f933a_row9_col10\" class=\"data row9 col10\" >-0.045125</td>\n",
              "      <td id=\"T_f933a_row9_col11\" class=\"data row9 col11\" >0.074935</td>\n",
              "      <td id=\"T_f933a_row9_col12\" class=\"data row9 col12\" >-0.430240</td>\n",
              "      <td id=\"T_f933a_row9_col13\" class=\"data row9 col13\" >0.025112</td>\n",
              "    </tr>\n",
              "    <tr>\n",
              "      <th id=\"T_f933a_level0_row10\" class=\"row_heading level0 row10\" >10</th>\n",
              "      <td id=\"T_f933a_row10_col0\" class=\"data row10 col0\" >-0.123913</td>\n",
              "      <td id=\"T_f933a_row10_col1\" class=\"data row10 col1\" >0.364683</td>\n",
              "      <td id=\"T_f933a_row10_col2\" class=\"data row10 col2\" >0.110986</td>\n",
              "      <td id=\"T_f933a_row10_col3\" class=\"data row10 col3\" >-0.119652</td>\n",
              "      <td id=\"T_f933a_row10_col4\" class=\"data row10 col4\" >-0.565345</td>\n",
              "      <td id=\"T_f933a_row10_col5\" class=\"data row10 col5\" >-0.554304</td>\n",
              "      <td id=\"T_f933a_row10_col6\" class=\"data row10 col6\" >0.065418</td>\n",
              "      <td id=\"T_f933a_row10_col7\" class=\"data row10 col7\" >-0.178626</td>\n",
              "      <td id=\"T_f933a_row10_col8\" class=\"data row10 col8\" >0.331005</td>\n",
              "      <td id=\"T_f933a_row10_col9\" class=\"data row10 col9\" >-0.045125</td>\n",
              "      <td id=\"T_f933a_row10_col10\" class=\"data row10 col10\" >1.000000</td>\n",
              "      <td id=\"T_f933a_row10_col11\" class=\"data row10 col11\" >-0.336884</td>\n",
              "      <td id=\"T_f933a_row10_col12\" class=\"data row10 col12\" >-0.020417</td>\n",
              "      <td id=\"T_f933a_row10_col13\" class=\"data row10 col13\" >-0.345722</td>\n",
              "    </tr>\n",
              "    <tr>\n",
              "      <th id=\"T_f933a_level0_row11\" class=\"row_heading level0 row11\" >11</th>\n",
              "      <td id=\"T_f933a_row11_col0\" class=\"data row11 col0\" >-0.199799</td>\n",
              "      <td id=\"T_f933a_row11_col1\" class=\"data row11 col1\" >0.219198</td>\n",
              "      <td id=\"T_f933a_row11_col2\" class=\"data row11 col2\" >0.139670</td>\n",
              "      <td id=\"T_f933a_row11_col3\" class=\"data row11 col3\" >0.471061</td>\n",
              "      <td id=\"T_f933a_row11_col4\" class=\"data row11 col4\" >0.623650</td>\n",
              "      <td id=\"T_f933a_row11_col5\" class=\"data row11 col5\" >0.472956</td>\n",
              "      <td id=\"T_f933a_row11_col6\" class=\"data row11 col6\" >-0.109529</td>\n",
              "      <td id=\"T_f933a_row11_col7\" class=\"data row11 col7\" >0.405889</td>\n",
              "      <td id=\"T_f933a_row11_col8\" class=\"data row11 col8\" >0.525722</td>\n",
              "      <td id=\"T_f933a_row11_col9\" class=\"data row11 col9\" >0.074935</td>\n",
              "      <td id=\"T_f933a_row11_col10\" class=\"data row11 col10\" >-0.336884</td>\n",
              "      <td id=\"T_f933a_row11_col11\" class=\"data row11 col11\" >1.000000</td>\n",
              "      <td id=\"T_f933a_row11_col12\" class=\"data row11 col12\" >-0.053778</td>\n",
              "      <td id=\"T_f933a_row11_col13\" class=\"data row11 col13\" >0.467426</td>\n",
              "    </tr>\n",
              "    <tr>\n",
              "      <th id=\"T_f933a_level0_row12\" class=\"row_heading level0 row12\" >12</th>\n",
              "      <td id=\"T_f933a_row12_col0\" class=\"data row12 col0\" >-0.061200</td>\n",
              "      <td id=\"T_f933a_row12_col1\" class=\"data row12 col1\" >-0.179906</td>\n",
              "      <td id=\"T_f933a_row12_col2\" class=\"data row12 col2\" >0.072958</td>\n",
              "      <td id=\"T_f933a_row12_col3\" class=\"data row12 col3\" >-0.421886</td>\n",
              "      <td id=\"T_f933a_row12_col4\" class=\"data row12 col4\" >-0.168425</td>\n",
              "      <td id=\"T_f933a_row12_col5\" class=\"data row12 col5\" >0.274505</td>\n",
              "      <td id=\"T_f933a_row12_col6\" class=\"data row12 col6\" >-0.041748</td>\n",
              "      <td id=\"T_f933a_row12_col7\" class=\"data row12 col7\" >-0.119448</td>\n",
              "      <td id=\"T_f933a_row12_col8\" class=\"data row12 col8\" >-0.209516</td>\n",
              "      <td id=\"T_f933a_row12_col9\" class=\"data row12 col9\" >-0.430240</td>\n",
              "      <td id=\"T_f933a_row12_col10\" class=\"data row12 col10\" >-0.020417</td>\n",
              "      <td id=\"T_f933a_row12_col11\" class=\"data row12 col11\" >-0.053778</td>\n",
              "      <td id=\"T_f933a_row12_col12\" class=\"data row12 col12\" >1.000000</td>\n",
              "      <td id=\"T_f933a_row12_col13\" class=\"data row12 col13\" >-0.304073</td>\n",
              "    </tr>\n",
              "    <tr>\n",
              "      <th id=\"T_f933a_level0_row13\" class=\"row_heading level0 row13\" >13</th>\n",
              "      <td id=\"T_f933a_row13_col0\" class=\"data row13 col0\" >0.032905</td>\n",
              "      <td id=\"T_f933a_row13_col1\" class=\"data row13 col1\" >0.035845</td>\n",
              "      <td id=\"T_f933a_row13_col2\" class=\"data row13 col2\" >-0.112034</td>\n",
              "      <td id=\"T_f933a_row13_col3\" class=\"data row13 col3\" >0.311617</td>\n",
              "      <td id=\"T_f933a_row13_col4\" class=\"data row13 col4\" >0.504373</td>\n",
              "      <td id=\"T_f933a_row13_col5\" class=\"data row13 col5\" >0.318667</td>\n",
              "      <td id=\"T_f933a_row13_col6\" class=\"data row13 col6\" >0.174139</td>\n",
              "      <td id=\"T_f933a_row13_col7\" class=\"data row13 col7\" >0.403160</td>\n",
              "      <td id=\"T_f933a_row13_col8\" class=\"data row13 col8\" >0.492889</td>\n",
              "      <td id=\"T_f933a_row13_col9\" class=\"data row13 col9\" >0.025112</td>\n",
              "      <td id=\"T_f933a_row13_col10\" class=\"data row13 col10\" >-0.345722</td>\n",
              "      <td id=\"T_f933a_row13_col11\" class=\"data row13 col11\" >0.467426</td>\n",
              "      <td id=\"T_f933a_row13_col12\" class=\"data row13 col12\" >-0.304073</td>\n",
              "      <td id=\"T_f933a_row13_col13\" class=\"data row13 col13\" >1.000000</td>\n",
              "    </tr>\n",
              "  </tbody>\n",
              "</table>\n"
            ]
          },
          "metadata": {},
          "execution_count": 54
        }
      ]
    },
    {
      "cell_type": "markdown",
      "source": [
        "#Regression Modeling#\n",
        "\n",
        "For the regression modeling, I used the Split Train Test. After doing extensive research, it seems to be a good test. As my skills develop and I have a better grasp of what to look for and how to interpret the findings, I hope to then utilize a plethora of models and tests in order to sufficiently predict and analyze the data.\n",
        "\n",
        "The outputted number is 0.897 which seems to point to the fact that these factors do have an impact on the response variable of deny. Next, I will reduced the comparison pool to three variables. "
      ],
      "metadata": {
        "id": "IWSK17DWuCgf"
      }
    },
    {
      "cell_type": "code",
      "source": [
        "\n",
        "data2 = data[['pbcr','dmi', 'self', 'single','black', 'deny', 'condominium' ]]\n",
        "print(data2.head())\n",
        "X_train, X_test, y_train, y_test = train_test_split(data2.drop('deny',axis=1), data2['deny'], test_size=0.20, random_state=101)\n",
        "\n",
        "model = LogisticRegression()\n",
        "model.fit(X_train,y_train)\n",
        "\n",
        "foresight = model.predict(X_test)\n",
        "\n",
        "print(classification_report(y_test,foresight))\n",
        "print(accuracy_score(y_test, foresight))"
      ],
      "metadata": {
        "colab": {
          "base_uri": "https://localhost:8080/"
        },
        "id": "SXzjAe8B9Gr6",
        "outputId": "6da79411-c95b-4ed9-e265-5839225d7db4"
      },
      "execution_count": 55,
      "outputs": [
        {
          "output_type": "stream",
          "name": "stdout",
          "text": [
            "   pbcr  dmi  self  single  black  deny  condominium\n",
            "0     0    0     0       0      0     0            0\n",
            "1     0    0     0       1      0     0            0\n",
            "2     0    0     0       0      0     0            0\n",
            "3     0    0     0       0      0     0            0\n",
            "4     0    0     0       0      0     0            0\n",
            "              precision    recall  f1-score   support\n",
            "\n",
            "           0       0.91      0.98      0.94       426\n",
            "           1       0.56      0.20      0.29        51\n",
            "\n",
            "    accuracy                           0.90       477\n",
            "   macro avg       0.73      0.59      0.62       477\n",
            "weighted avg       0.87      0.90      0.87       477\n",
            "\n",
            "0.8972746331236897\n"
          ]
        }
      ]
    },
    {
      "cell_type": "markdown",
      "source": [
        "#Select Models#\n",
        "Here I created a predictors array and populated it with some of the factors that I deemed to have a potential impact to the response variable. The outputted number was 0.901. I need to take a deep-dive into what these numbers mean and whether or not I set up the model correctly. "
      ],
      "metadata": {
        "id": "wwLPknyUwhiJ"
      }
    },
    {
      "cell_type": "code",
      "source": [
        "train= data[['pbcr','dmi', 'self', 'single','black', 'deny', 'condominium' ]]\n",
        "test= data[['pbcr','dmi', 'self', 'single','black', 'deny', 'condominium' ]]\n",
        "\n",
        "predictors = ['black', 'dmi', 'pbcr']\n",
        "\n",
        "X_train = train[predictors].values\n",
        "y_train = train['deny'].values\n",
        "\n",
        "model = LogisticRegression()\n",
        "model.fit(X_train, y_train)\n",
        "print(model.score(X_train, y_train))\n",
        "\n",
        "print(predictors)\n",
        "model.coef_"
      ],
      "metadata": {
        "colab": {
          "base_uri": "https://localhost:8080/"
        },
        "id": "JUD8Cg6aV5iO",
        "outputId": "81dfc06f-8115-4143-9236-c72cfd8672ce"
      },
      "execution_count": 56,
      "outputs": [
        {
          "output_type": "stream",
          "name": "stdout",
          "text": [
            "0.9008819823603528\n",
            "['black', 'dmi', 'pbcr']\n"
          ]
        },
        {
          "output_type": "execute_result",
          "data": {
            "text/plain": [
              "array([[1.09331397, 3.74946923, 1.76090903]])"
            ]
          },
          "metadata": {},
          "execution_count": 56
        }
      ]
    },
    {
      "cell_type": "markdown",
      "source": [
        "Here I varied up the predictors array with a different assortment of variables and tested it to the response variable. The 0.897 output has to be analyzed more as I improve my comprehension of these models and data. "
      ],
      "metadata": {
        "id": "HdPBdZ8nbCa0"
      }
    },
    {
      "cell_type": "code",
      "source": [
        "train= data[['pbcr','dmi', 'self', 'single','black', 'deny', 'condominium' ]]\n",
        "test= data[['pbcr','dmi', 'self', 'single','black', 'deny', 'condominium' ]]\n",
        "\n",
        "predictors = ['pbcr', 'dmi', 'single']\n",
        "\n",
        "X_train = train[predictors].values\n",
        "y_train = train['deny'].values\n",
        "\n",
        "model = LogisticRegression()\n",
        "model.fit(X_train, y_train)\n",
        "print(model.score(X_train, y_train))\n",
        "\n",
        "print(predictors)\n",
        "model.coef_"
      ],
      "metadata": {
        "colab": {
          "base_uri": "https://localhost:8080/"
        },
        "id": "FjqcV-tIbEPF",
        "outputId": "6fb13d5b-76a9-4687-a4c9-5b512c248f8f"
      },
      "execution_count": 57,
      "outputs": [
        {
          "output_type": "stream",
          "name": "stdout",
          "text": [
            "0.8971020579588408\n",
            "['pbcr', 'dmi', 'single']\n"
          ]
        },
        {
          "output_type": "execute_result",
          "data": {
            "text/plain": [
              "array([[1.95092596, 3.78119467, 0.50353145]])"
            ]
          },
          "metadata": {},
          "execution_count": 57
        }
      ]
    },
    {
      "cell_type": "markdown",
      "source": [
        "Lastly, I ran another test with another variation of variables; and tested it to the response variable. The output is 0.887. I am fascinated to figure out what these numbers mean within the context of how mortgage loans are affected. "
      ],
      "metadata": {
        "id": "VUneyLezbJ81"
      }
    },
    {
      "cell_type": "code",
      "source": [
        "train= data[['pbcr','dmi', 'self', 'single','black', 'deny', 'condominium' ]]\n",
        "test= data[['pbcr','dmi', 'self', 'single','black', 'deny', 'condominium' ]]\n",
        "\n",
        "predictors = ['single', 'pbcr', 'black']\n",
        "\n",
        "X_train = train[predictors].values\n",
        "y_train = train['deny'].values\n",
        "\n",
        "model = LogisticRegression()\n",
        "model.fit(X_train, y_train)\n",
        "print(model.score(X_train, y_train))\n",
        "\n",
        "print(predictors)\n",
        "model.coef_"
      ],
      "metadata": {
        "colab": {
          "base_uri": "https://localhost:8080/"
        },
        "id": "zb16YnD6bKV6",
        "outputId": "64d804ae-2857-4b58-e4b4-85dcb53055d2"
      },
      "execution_count": 58,
      "outputs": [
        {
          "output_type": "stream",
          "name": "stdout",
          "text": [
            "0.887022259554809\n",
            "['single', 'pbcr', 'black']\n"
          ]
        },
        {
          "output_type": "execute_result",
          "data": {
            "text/plain": [
              "array([[0.40956243, 1.77443632, 1.08086312]])"
            ]
          },
          "metadata": {},
          "execution_count": 58
        }
      ]
    },
    {
      "cell_type": "markdown",
      "source": [
        "##Logistic Regression Curves##\n",
        "\n",
        "Here are a bevy of logistic regression curves that can be used to visualize some of the features as compared to the response variable. "
      ],
      "metadata": {
        "id": "j8G1bDwgbqrG"
      }
    },
    {
      "cell_type": "code",
      "source": [
        "sns.regplot(x=data['hir'], y=data['deny'], data=data, logistic=True, ci=None)"
      ],
      "metadata": {
        "colab": {
          "base_uri": "https://localhost:8080/",
          "height": 296
        },
        "id": "l3ElMW4XbsuO",
        "outputId": "9d5ff44e-7791-4be4-c039-83f2caf88192"
      },
      "execution_count": 59,
      "outputs": [
        {
          "output_type": "execute_result",
          "data": {
            "text/plain": [
              "<matplotlib.axes._subplots.AxesSubplot at 0x7fafb62f1150>"
            ]
          },
          "metadata": {},
          "execution_count": 59
        },
        {
          "output_type": "display_data",
          "data": {
            "text/plain": [
              "<Figure size 432x288 with 1 Axes>"
            ],
            "image/png": "[encoded data removed]"
          },
          "metadata": {
            "needs_background": "light"
          }
        }
      ]
    },
    {
      "cell_type": "code",
      "source": [
        "sns.regplot(x=data['dmi'], y=data['deny'], data=data, logistic=True, ci=None)"
      ],
      "metadata": {
        "colab": {
          "base_uri": "https://localhost:8080/",
          "height": 296
        },
        "id": "7SeDOy6Rd29-",
        "outputId": "7d030394-3742-45c6-b7da-1cde02a630a0"
      },
      "execution_count": 60,
      "outputs": [
        {
          "output_type": "execute_result",
          "data": {
            "text/plain": [
              "<matplotlib.axes._subplots.AxesSubplot at 0x7fafb6251c50>"
            ]
          },
          "metadata": {},
          "execution_count": 60
        },
        {
          "output_type": "display_data",
          "data": {
            "text/plain": [
              "<Figure size 432x288 with 1 Axes>"
            ],
            "image/png": "[encoded data removed]"
          },
          "metadata": {
            "needs_background": "light"
          }
        }
      ]
    },
    {
      "cell_type": "code",
      "source": [
        "sns.regplot(x=data['dir'], y=data['deny'], data=data, logistic=True, ci=None)"
      ],
      "metadata": {
        "colab": {
          "base_uri": "https://localhost:8080/",
          "height": 296
        },
        "id": "M6h_ILRXd7-Z",
        "outputId": "d1818ae7-1a2c-4e1d-feca-42833d9b6b3d"
      },
      "execution_count": 61,
      "outputs": [
        {
          "output_type": "execute_result",
          "data": {
            "text/plain": [
              "<matplotlib.axes._subplots.AxesSubplot at 0x7fafb61ddcd0>"
            ]
          },
          "metadata": {},
          "execution_count": 61
        },
        {
          "output_type": "display_data",
          "data": {
            "text/plain": [
              "<Figure size 432x288 with 1 Axes>"
            ],
            "image/png": "[encoded data removed]"
          },
          "metadata": {
            "needs_background": "light"
          }
        }
      ]
    },
    {
      "cell_type": "code",
      "source": [
        "sns.regplot(x=data['black'], y=data['deny'], data=data, logistic=True, ci=None)"
      ],
      "metadata": {
        "colab": {
          "base_uri": "https://localhost:8080/",
          "height": 296
        },
        "id": "l5J2y4N9eACf",
        "outputId": "e0023f3e-d381-45d7-92ef-ffc85a66e665"
      },
      "execution_count": 62,
      "outputs": [
        {
          "output_type": "execute_result",
          "data": {
            "text/plain": [
              "<matplotlib.axes._subplots.AxesSubplot at 0x7fafb6eaa0d0>"
            ]
          },
          "metadata": {},
          "execution_count": 62
        },
        {
          "output_type": "display_data",
          "data": {
            "text/plain": [
              "<Figure size 432x288 with 1 Axes>"
            ],
            "image/png": "[encoded data removed]"
          },
          "metadata": {
            "needs_background": "light"
          }
        }
      ]
    },
    {
      "cell_type": "code",
      "source": [
        "sns.regplot(x=data['pbcr'], y=data['deny'], data=data, logistic=True, ci=None)"
      ],
      "metadata": {
        "colab": {
          "base_uri": "https://localhost:8080/",
          "height": 296
        },
        "id": "z6bKTMQbeGje",
        "outputId": "9ae9ff55-0ced-44b6-c430-e0406bfdceb4"
      },
      "execution_count": 63,
      "outputs": [
        {
          "output_type": "execute_result",
          "data": {
            "text/plain": [
              "<matplotlib.axes._subplots.AxesSubplot at 0x7fafb624af90>"
            ]
          },
          "metadata": {},
          "execution_count": 63
        },
        {
          "output_type": "display_data",
          "data": {
            "text/plain": [
              "<Figure size 432x288 with 1 Axes>"
            ],
            "image/png": "[encoded data removed]"
          },
          "metadata": {
            "needs_background": "light"
          }
        }
      ]
    },
    {
      "cell_type": "code",
      "source": [
        "sns.regplot(x=data['self'], y=data['deny'], data=data, logistic=True, ci=None)"
      ],
      "metadata": {
        "colab": {
          "base_uri": "https://localhost:8080/",
          "height": 296
        },
        "id": "1R2YYEZieKIM",
        "outputId": "985e9f64-4e87-4fad-931c-f9c5e636ac49"
      },
      "execution_count": 64,
      "outputs": [
        {
          "output_type": "execute_result",
          "data": {
            "text/plain": [
              "<matplotlib.axes._subplots.AxesSubplot at 0x7fafb60f3c50>"
            ]
          },
          "metadata": {},
          "execution_count": 64
        },
        {
          "output_type": "display_data",
          "data": {
            "text/plain": [
              "<Figure size 432x288 with 1 Axes>"
            ],
            "image/png": "[encoded data removed]"
          },
          "metadata": {
            "needs_background": "light"
          }
        }
      ]
    },
    {
      "cell_type": "code",
      "source": [
        "sns.regplot(x=data['mcs'], y=data['deny'], data=data, logistic=True, ci=None)"
      ],
      "metadata": {
        "colab": {
          "base_uri": "https://localhost:8080/",
          "height": 296
        },
        "id": "aP-NarFteNg-",
        "outputId": "0df45793-05e9-4666-d638-c4ac0e2459fb"
      },
      "execution_count": 65,
      "outputs": [
        {
          "output_type": "execute_result",
          "data": {
            "text/plain": [
              "<matplotlib.axes._subplots.AxesSubplot at 0x7fafb60691d0>"
            ]
          },
          "metadata": {},
          "execution_count": 65
        },
        {
          "output_type": "display_data",
          "data": {
            "text/plain": [
              "<Figure size 432x288 with 1 Axes>"
            ],
            "image/png": "[encoded data removed]"
          },
          "metadata": {
            "needs_background": "light"
          }
        }
      ]
    },
    {
      "cell_type": "code",
      "source": [
        "sns.regplot(x=data['ccs'], y=data['deny'], data=data, logistic=True, ci=None)"
      ],
      "metadata": {
        "colab": {
          "base_uri": "https://localhost:8080/",
          "height": 296
        },
        "id": "iE0Q_6MheQhU",
        "outputId": "636404c5-fd54-4733-8557-8f84c90667d5"
      },
      "execution_count": 66,
      "outputs": [
        {
          "output_type": "execute_result",
          "data": {
            "text/plain": [
              "<matplotlib.axes._subplots.AxesSubplot at 0x7fafb5fd8a50>"
            ]
          },
          "metadata": {},
          "execution_count": 66
        },
        {
          "output_type": "display_data",
          "data": {
            "text/plain": [
              "<Figure size 432x288 with 1 Axes>"
            ],
            "image/png": "[encoded data removed]"
          },
          "metadata": {
            "needs_background": "light"
          }
        }
      ]
    },
    {
      "cell_type": "code",
      "source": [
        "sns.regplot(x=data['single'], y=data['deny'], data=data, logistic=True, ci=None)"
      ],
      "metadata": {
        "colab": {
          "base_uri": "https://localhost:8080/",
          "height": 296
        },
        "id": "Sdn9iBJmeUE9",
        "outputId": "c4e5bfff-02ee-46d5-d120-5846fe6c71de"
      },
      "execution_count": 67,
      "outputs": [
        {
          "output_type": "execute_result",
          "data": {
            "text/plain": [
              "<matplotlib.axes._subplots.AxesSubplot at 0x7fafb5f49110>"
            ]
          },
          "metadata": {},
          "execution_count": 67
        },
        {
          "output_type": "display_data",
          "data": {
            "text/plain": [
              "<Figure size 432x288 with 1 Axes>"
            ],
            "image/png": "[encoded data removed]"
          },
          "metadata": {
            "needs_background": "light"
          }
        }
      ]
    },
    {
      "cell_type": "code",
      "source": [
        "sns.regplot(x=data['uria'], y=data['deny'], data=data, logistic=True, ci=None)"
      ],
      "metadata": {
        "colab": {
          "base_uri": "https://localhost:8080/",
          "height": 296
        },
        "id": "Sf-YYx5meYEx",
        "outputId": "64fef81c-55c6-4b40-d244-3971454a3876"
      },
      "execution_count": 68,
      "outputs": [
        {
          "output_type": "execute_result",
          "data": {
            "text/plain": [
              "<matplotlib.axes._subplots.AxesSubplot at 0x7fafb5f38e50>"
            ]
          },
          "metadata": {},
          "execution_count": 68
        },
        {
          "output_type": "display_data",
          "data": {
            "text/plain": [
              "<Figure size 432x288 with 1 Axes>"
            ],
            "image/png": "[encoded data removed]"
          },
          "metadata": {
            "needs_background": "light"
          }
        }
      ]
    },
    {
      "cell_type": "code",
      "source": [
        "sns.regplot(x=data['lvr'], y=data['deny'], data=data, logistic=True, ci=None)"
      ],
      "metadata": {
        "colab": {
          "base_uri": "https://localhost:8080/",
          "height": 296
        },
        "id": "-k7XR3d52jnY",
        "outputId": "61e5c2f9-7a2b-4f5d-be42-f715d5d11a02"
      },
      "execution_count": 69,
      "outputs": [
        {
          "output_type": "execute_result",
          "data": {
            "text/plain": [
              "<matplotlib.axes._subplots.AxesSubplot at 0x7fafb5eb27d0>"
            ]
          },
          "metadata": {},
          "execution_count": 69
        },
        {
          "output_type": "display_data",
          "data": {
            "text/plain": [
              "<Figure size 432x288 with 1 Axes>"
            ],
            "image/png": "[encoded data removed]"
          },
          "metadata": {
            "needs_background": "light"
          }
        }
      ]
    },
    {
      "cell_type": "markdown",
      "source": [
        "#Conclusion#\n",
        "\n",
        "The findings seem to point in the direction of debt payments, housing expenses and the ratio of size of loan to assessed value of property as key factors in influencing loan approvals. Improving the models and data fluency is something that must be taken seriously as the consequences of these findings have a resounding impact on society. Much of my conclusions were based on the regression plots utilized at the end of this notebook, and thus, I feel as if there needs to be a lot more refinement in my skills to make sound judgement calls on the findings. I am striving for that to happen as soon as possible.\n",
        "\n",
        " As my data analytic skills improve, I am happy to continue fixing up this notebook because I am immensely dedicated in being objective and providing up-to-date and pragmatic ascertainments. "
      ],
      "metadata": {
        "id": "T44pb99n1yqY"
      }
    },
    {
      "cell_type": "markdown",
      "source": [
        "##Resources:##\n",
        "https://www.extendoffice.com/documents/excel/3341-excel-split-comma-separated-values.html\n",
        "\n",
        "https://stackoverflow.com/questions/70787006/why-i-get-strange-error-when-trying-to-read-csv-file-in-colab\n",
        "\n",
        "https://www.edureka.co/community/52956/sklearn-cross-validation-import-train-test-split-not-working\n",
        "\n",
        "https://www.youtube.com/watch?v=UBKImHIc6PI&t=8s\n",
        "\n",
        "https://datatofish.com/replace-values-pandas-dataframe/\n",
        "\n",
        "https://www.statology.org/how-to-read-a-correlation-matrix/\n",
        "\n",
        "https://www.geeksforgeeks.org/how-to-convert-categorical-data-to-binary-data-in-python/\n",
        "\n",
        "https://stackoverflow.com/questions/40901770/is-there-a-simple-way-to-change-a-column-of-yes-no-to-1-0-in-a-pandas-dataframe\n",
        "\n",
        "https://www.analyticsvidhya.com/blog/2022/02/logistic-regression-using-python-and-excel/\n",
        "\n",
        "\n",
        "https://sites.google.com/view/vinegarhill-datalabs/data-transformation-and-visualization/tidyverse-r/boston-hmda\n",
        "\n",
        "https://pythonbasics.org/split-train-test/\n",
        "\n",
        "https://realpython.com/logistic-regression-python/\n",
        "\n",
        "https://stackoverflow.com/questions/29432629/plot-correlation-matrix-using-pandas\n",
        "\n",
        "https://stackoverflow.com/questions/58003161/python-pandas-column-to-replace-string-boolean-values-to-actual-boolean-type\n",
        "\n",
        "https://github.com/susanli2016/Machine-Learning-with-Python/blob/master/Logistic%20Regression%20in%20Python%20-%20Step%20by%20Step.ipynb\n",
        "\n",
        "https://www.youtube.com/watch?v=VCJdg7YBbAQ (Logistic Regression in Python)\n",
        "\n",
        "https://www.youtube.com/watch?v=yIYKR4sgzI8 (StatQuest: Logistic Regression)"
      ],
      "metadata": {
        "id": "ZpErxjZLpZAp"
      }
    }
  ]
}